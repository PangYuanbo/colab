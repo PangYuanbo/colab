{
 "cells": [
  {
   "cell_type": "code",
   "id": "initial_id",
   "metadata": {
    "collapsed": true,
    "ExecuteTime": {
     "end_time": "2024-08-18T06:48:49.086941Z",
     "start_time": "2024-08-18T06:48:45.361007Z"
    }
   },
   "source": "!git clone https://github.com/PangYuanbo/FedAvg.git",
   "outputs": [
    {
     "name": "stdout",
     "output_type": "stream",
     "text": [
      "Cloning into 'FedAvg'...\r\n",
      "remote: Enumerating objects: 210, done.\u001B[K\r\n",
      "remote: Counting objects: 100% (210/210), done.\u001B[K\r\n",
      "remote: Compressing objects: 100% (147/147), done.\u001B[K\r\n",
      "remote: Total 210 (delta 91), reused 164 (delta 48), pack-reused 0 (from 0)\u001B[K\r\n",
      "Receiving objects: 100% (210/210), 8.72 MiB | 3.07 MiB/s, done.\r\n",
      "Resolving deltas: 100% (91/91), done.\r\n"
     ]
    }
   ],
   "execution_count": 1
  },
  {
   "metadata": {
    "ExecuteTime": {
     "end_time": "2024-08-18T06:52:49.228971Z",
     "start_time": "2024-08-18T06:52:48.570548Z"
    }
   },
   "cell_type": "code",
   "source": [
    "!ls\n",
    "!git pull"
   ],
   "id": "f3a86609f62d2aa9",
   "outputs": [
    {
     "name": "stdout",
     "output_type": "stream",
     "text": [
      "\u001B[34mFedAvg\u001B[m\u001B[m       FedAvg.ipynb\r\n",
      "Already up to date.\r\n"
     ]
    }
   ],
   "execution_count": 8
  },
  {
   "metadata": {
    "ExecuteTime": {
     "end_time": "2024-08-18T06:50:58.186270Z",
     "start_time": "2024-08-18T06:50:56.966895Z"
    }
   },
   "cell_type": "code",
   "source": "!pip install torch idx2numpy torchvision",
   "id": "b2be52947005d910",
   "outputs": [
    {
     "name": "stdout",
     "output_type": "stream",
     "text": [
      "Requirement already satisfied: torch in /opt/anaconda3/envs/FedAvg/lib/python3.9/site-packages (2.4.0)\r\n",
      "Requirement already satisfied: idx2numpy in /opt/anaconda3/envs/FedAvg/lib/python3.9/site-packages (1.2.3)\r\n",
      "Requirement already satisfied: torchvision in /opt/anaconda3/envs/FedAvg/lib/python3.9/site-packages (0.19.0)\r\n",
      "Requirement already satisfied: filelock in /opt/anaconda3/envs/FedAvg/lib/python3.9/site-packages (from torch) (3.13.1)\r\n",
      "Requirement already satisfied: typing-extensions>=4.8.0 in /opt/anaconda3/envs/FedAvg/lib/python3.9/site-packages (from torch) (4.11.0)\r\n",
      "Requirement already satisfied: sympy in /opt/anaconda3/envs/FedAvg/lib/python3.9/site-packages (from torch) (1.12)\r\n",
      "Requirement already satisfied: networkx in /opt/anaconda3/envs/FedAvg/lib/python3.9/site-packages (from torch) (3.2.1)\r\n",
      "Requirement already satisfied: jinja2 in /opt/anaconda3/envs/FedAvg/lib/python3.9/site-packages (from torch) (3.1.4)\r\n",
      "Requirement already satisfied: fsspec in /opt/anaconda3/envs/FedAvg/lib/python3.9/site-packages (from torch) (2024.6.1)\r\n",
      "Requirement already satisfied: numpy in /opt/anaconda3/envs/FedAvg/lib/python3.9/site-packages (from idx2numpy) (1.26.4)\r\n",
      "Requirement already satisfied: six in /opt/anaconda3/envs/FedAvg/lib/python3.9/site-packages (from idx2numpy) (1.16.0)\r\n",
      "Requirement already satisfied: pillow!=8.3.*,>=5.3.0 in /opt/anaconda3/envs/FedAvg/lib/python3.9/site-packages (from torchvision) (10.4.0)\r\n",
      "Requirement already satisfied: MarkupSafe>=2.0 in /opt/anaconda3/envs/FedAvg/lib/python3.9/site-packages (from jinja2->torch) (2.1.3)\r\n",
      "Requirement already satisfied: mpmath>=0.19 in /opt/anaconda3/envs/FedAvg/lib/python3.9/site-packages (from sympy->torch) (1.3.0)\r\n"
     ]
    }
   ],
   "execution_count": 4
  },
  {
   "metadata": {
    "ExecuteTime": {
     "end_time": "2024-08-18T06:53:34.164578Z",
     "start_time": "2024-08-18T06:53:32.763844Z"
    }
   },
   "cell_type": "code",
   "source": "!cd FedAvg && git pull\n",
   "id": "109eaa1102add4a7",
   "outputs": [
    {
     "name": "stdout",
     "output_type": "stream",
     "text": [
      "remote: Enumerating objects: 17, done.\u001B[K\r\n",
      "remote: Counting objects: 100% (17/17), done.\u001B[K\r\n",
      "remote: Compressing objects: 100% (4/4), done.\u001B[K\r\n",
      "remote: Total 11 (delta 7), reused 11 (delta 7), pack-reused 0 (from 0)\u001B[K\r\n",
      "Unpacking objects: 100% (11/11), 1.83 KiB | 156.00 KiB/s, done.\r\n",
      "From https://github.com/PangYuanbo/FedAvg\r\n",
      "   fae0fcb..e0a1c7a  main       -> origin/main\r\n",
      "Updating fae0fcb..e0a1c7a\r\n",
      "Fast-forward\r\n",
      " Backdoor/CNN_Noiid_0.5_10_1.npy | Bin \u001B[31m288\u001B[m -> \u001B[32m288\u001B[m bytes\r\n",
      " Backdoor/FedAvg.py              |  36 \u001B[32m++++++++++\u001B[m\u001B[31m-----------\u001B[m\r\n",
      " Backdoor/attack_train.py        |  11 \u001B[32m++++\u001B[m\u001B[31m---\u001B[m\r\n",
      " Backdoor/data_utils.py          |  67 \u001B[32m++++++++++++++++++++++++++++++++++++++++\u001B[m\r\n",
      " Backdoor/models.py              |  24 \u001B[32m+++++++++++++\u001B[m\u001B[31m-\u001B[m\r\n",
      " Backdoor/run.ipynb              |  38 \u001B[32m+++++++++++++++++++++++\u001B[m\r\n",
      " 6 files changed, 152 insertions(+), 24 deletions(-)\r\n",
      " create mode 100644 Backdoor/data_utils.py\r\n",
      " create mode 100644 Backdoor/run.ipynb\r\n"
     ]
    }
   ],
   "execution_count": 9
  },
  {
   "metadata": {
    "ExecuteTime": {
     "end_time": "2024-08-18T06:54:26.123384Z",
     "start_time": "2024-08-18T06:54:25.997692Z"
    }
   },
   "cell_type": "code",
   "source": "! ls",
   "id": "358d0db72551cf9e",
   "outputs": [
    {
     "name": "stdout",
     "output_type": "stream",
     "text": [
      "\u001B[34mFedAvg\u001B[m\u001B[m       FedAvg.ipynb\r\n"
     ]
    }
   ],
   "execution_count": 11
  },
  {
   "metadata": {
    "ExecuteTime": {
     "end_time": "2024-08-18T06:55:04.183442Z",
     "start_time": "2024-08-18T06:54:52.133511Z"
    }
   },
   "cell_type": "code",
   "source": "! cd FedAvg && python Backdoor/FedAvg.py",
   "id": "25f9c0e8e5f47fe4",
   "outputs": [
    {
     "name": "stdout",
     "output_type": "stream",
     "text": [
      "Using device: cpu\r\n",
      "Downloading CIFAR-10 dataset...\r\n",
      "Downloading https://www.cs.toronto.edu/~kriz/cifar-10-python.tar.gz to ./data/cifar-10-python.tar.gz\r\n",
      "8.8%^C\r\n",
      "\r\n",
      "Traceback (most recent call last):\r\n",
      "  File \"/Users/aaronpang/PycharmProjects/colab/FedAvg/FedAvg/Backdoor/FedAvg.py\", line 158, in <module>\r\n",
      "    main()\r\n",
      "  File \"/Users/aaronpang/PycharmProjects/colab/FedAvg/FedAvg/Backdoor/FedAvg.py\", line 31, in main\r\n",
      "    train_data,test_data=load_dataset(False)\r\n",
      "  File \"/Users/aaronpang/PycharmProjects/colab/FedAvg/FedAvg/Backdoor/semantic_attack.py\", line 41, in load_dataset\r\n",
      "    train_dataset = datasets.CIFAR10(root='./data', train=True, download=True, transform=transform)\r\n",
      "  File \"/opt/anaconda3/envs/FedAvg/lib/python3.9/site-packages/torchvision/datasets/cifar.py\", line 66, in __init__\r\n",
      "    self.download()\r\n",
      "  File \"/opt/anaconda3/envs/FedAvg/lib/python3.9/site-packages/torchvision/datasets/cifar.py\", line 140, in download\r\n",
      "    download_and_extract_archive(self.url, self.root, filename=self.filename, md5=self.tgz_md5)\r\n",
      "  File \"/opt/anaconda3/envs/FedAvg/lib/python3.9/site-packages/torchvision/datasets/utils.py\", line 395, in download_and_extract_archive\r\n",
      "    download_url(url, download_root, filename, md5)\r\n",
      "  File \"/opt/anaconda3/envs/FedAvg/lib/python3.9/site-packages/torchvision/datasets/utils.py\", line 132, in download_url\r\n",
      "    _urlretrieve(url, fpath)\r\n",
      "  File \"/opt/anaconda3/envs/FedAvg/lib/python3.9/site-packages/torchvision/datasets/utils.py\", line 30, in _urlretrieve\r\n",
      "    while chunk := response.read(chunk_size):\r\n",
      "  File \"/opt/anaconda3/envs/FedAvg/lib/python3.9/http/client.py\", line 463, in read\r\n",
      "    n = self.readinto(b)\r\n",
      "  File \"/opt/anaconda3/envs/FedAvg/lib/python3.9/http/client.py\", line 507, in readinto\r\n",
      "    n = self.fp.readinto(b)\r\n",
      "  File \"/opt/anaconda3/envs/FedAvg/lib/python3.9/socket.py\", line 704, in readinto\r\n",
      "    return self._sock.recv_into(b)\r\n",
      "  File \"/opt/anaconda3/envs/FedAvg/lib/python3.9/ssl.py\", line 1275, in recv_into\r\n",
      "    return self.read(nbytes, buffer)\r\n",
      "  File \"/opt/anaconda3/envs/FedAvg/lib/python3.9/ssl.py\", line 1133, in read\r\n",
      "    return self._sslobj.read(len, buffer)\r\n",
      "KeyboardInterrupt\r\n"
     ]
    }
   ],
   "execution_count": 12
  },
  {
   "metadata": {},
   "cell_type": "code",
   "outputs": [],
   "execution_count": null,
   "source": "",
   "id": "628dbfe03a6de766"
  }
 ],
 "metadata": {
  "kernelspec": {
   "display_name": "Python 3",
   "language": "python",
   "name": "python3"
  },
  "language_info": {
   "codemirror_mode": {
    "name": "ipython",
    "version": 2
   },
   "file_extension": ".py",
   "mimetype": "text/x-python",
   "name": "python",
   "nbconvert_exporter": "python",
   "pygments_lexer": "ipython2",
   "version": "2.7.6"
  }
 },
 "nbformat": 4,
 "nbformat_minor": 5
}
